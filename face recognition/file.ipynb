{
 "cells": [
  {
   "cell_type": "code",
   "execution_count": 1,
   "metadata": {},
   "outputs": [
    {
     "name": "stdout",
     "output_type": "stream",
     "text": [
      "Requirement already satisfied: face_recognition in c:\\program files\\python312\\lib\\site-packages (1.3.0)\n",
      "Requirement already satisfied: opencv-python in c:\\program files\\python312\\lib\\site-packages (4.9.0.80)\n",
      "Requirement already satisfied: numpy in c:\\program files\\python312\\lib\\site-packages (1.26.4)\n",
      "Requirement already satisfied: face-recognition-models>=0.3.0 in c:\\program files\\python312\\lib\\site-packages (from face_recognition) (0.3.0)\n",
      "Requirement already satisfied: Click>=6.0 in c:\\program files\\python312\\lib\\site-packages (from face_recognition) (8.1.7)\n",
      "Requirement already satisfied: dlib>=19.7 in c:\\program files\\python312\\lib\\site-packages (from face_recognition) (19.24.8)\n",
      "Requirement already satisfied: Pillow in c:\\program files\\python312\\lib\\site-packages (from face_recognition) (10.3.0)\n",
      "Requirement already satisfied: colorama in c:\\program files\\python312\\lib\\site-packages (from Click>=6.0->face_recognition) (0.4.6)\n",
      "Note: you may need to restart the kernel to use updated packages.\n"
     ]
    },
    {
     "name": "stderr",
     "output_type": "stream",
     "text": [
      "DEPRECATION: Loading egg at c:\\program files\\python312\\lib\\site-packages\\vboxapi-1.0-py3.12.egg is deprecated. pip 25.1 will enforce this behaviour change. A possible replacement is to use pip for package installation. Discussion can be found at https://github.com/pypa/pip/issues/12330\n"
     ]
    }
   ],
   "source": [
    "pip install face_recognition opencv-python numpy\n"
   ]
  },
  {
   "cell_type": "code",
   "execution_count": 3,
   "metadata": {},
   "outputs": [
    {
     "name": "stdout",
     "output_type": "stream",
     "text": [
      "É a mesma pessoa? False - Distância de Similaridade: 0.9792368304154507\n"
     ]
    }
   ],
   "source": [
    "import face_recognition\n",
    "import cv2\n",
    "\n",
    "imagem_referencia = \"rosto.jpg\" \n",
    "imagem_teste = \"rosto2.jpg\"  \n",
    "\n",
    "def comparar_faces(imagem_referencia, imagem_teste):\n",
    "    ref_img = face_recognition.load_image_file(imagem_referencia)\n",
    "    teste_img = face_recognition.load_image_file(imagem_teste)\n",
    "    \n",
    "    ref_encodings = face_recognition.face_encodings(ref_img)\n",
    "    teste_encodings = face_recognition.face_encodings(teste_img)\n",
    "\n",
    "    if not ref_encodings:\n",
    "        return \"Nenhum rosto encontrado na imagem de referência!\"\n",
    "    if not teste_encodings:\n",
    "        return \"Nenhum rosto encontrado na imagem de teste!\"\n",
    "\n",
    "    # Comparar as faces e calcular a distância\n",
    "    resultado = face_recognition.compare_faces([ref_encodings[0]], teste_encodings[0])\n",
    "    distancia = face_recognition.face_distance([ref_encodings[0]], teste_encodings[0])\n",
    "\n",
    "    return f\"É a mesma pessoa? {resultado[0]} - Distância de Similaridade: {distancia[0]}\"\n",
    "\n",
    "resultado = comparar_faces(imagem_referencia, imagem_teste)\n",
    "print(resultado)"
   ]
  }
 ],
 "metadata": {
  "kernelspec": {
   "display_name": "Python 3",
   "language": "python",
   "name": "python3"
  },
  "language_info": {
   "codemirror_mode": {
    "name": "ipython",
    "version": 3
   },
   "file_extension": ".py",
   "mimetype": "text/x-python",
   "name": "python",
   "nbconvert_exporter": "python",
   "pygments_lexer": "ipython3",
   "version": "3.12.3"
  }
 },
 "nbformat": 4,
 "nbformat_minor": 2
}
